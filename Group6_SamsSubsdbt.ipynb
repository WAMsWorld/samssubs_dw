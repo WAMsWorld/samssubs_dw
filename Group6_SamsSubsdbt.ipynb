{
 "cells": [
  {
   "cell_type": "markdown",
   "metadata": {},
   "source": [
    "# Sam’s Subs ELT Project: Assignment Deliverable\n",
    "## Group 6: Adrian Chavez-Loya, Hunter Lovell, Wayne Montgomery\n",
    "\n",
    "## Project Overview\n",
    "\n",
    "### Objective\n",
    "Sam’s Subs, a popular sandwich chain, aims to optimize its data infrastructure by developing a data warehouse for analyzing its operations and customer behavior. In this assignment, we will implement an Extract, Load, and Transform (ELT) process. This will include extracting data from the SQL Server database, loading it into Snowflake, and transforming it into a star schema using dbt.\n",
    "\n",
    "### Assignment Requirements\n",
    "\n",
    "1. **Extract and Load (Airbyte):**  \n",
    "   Set up Airbyte to extract data from SQL Server and load it into the Snowflake `RAW_SAMSSUBS` schema.\n",
    "   \n",
    "2. **Transform (dbt):**  \n",
    "   Using dbt, transform raw data from the `RAW_SAMSSUBS` schema and create dimensional and fact tables in the `SAMS_SUBS` schema in Snowflake.\n",
    "   \n",
    "3. **Deliverables:**\n",
    "   - A Jupyter Notebook summarizing the process with SQL and YAML code blocks used to with dbt to transform data and create data warehouse structure.\n",
    "\n",
    "---\n",
    "\n",
    "## Database Structure and Schema Design\n",
    "\n",
    "The following tables are created to populate the data warehouse. In addition to tables populated with raw data, there will be tables created for entities where data is not yet available. These tables will be included in the dimensional model to support future data loading.\n",
    "\n",
    "### Dimensions\n",
    "- **Customer Dimension** (`customer_dim`): Stores customer details like name and contact information.\n",
    "- **Date Dimension** (`date_dim`): Stores date details for analysis by day, month, quarter, and year.\n",
    "- **Employee Dimension** (`employee_dim`): Stores employee information.\n",
    "- **Product Dimension** (`product_dim`): Stores details about products.\n",
    "- **Store Dimension** (`store_dim`): Stores store location details.\n",
    "\n",
    "### Fact Tables\n",
    "- **Order Fact** (`order_fact`): Stores order information with references to customers, employees, stores, and order details.\n",
    "- **Order Line Fact** (`order_line_fact`): Stores individual line items within orders, including product and pricing details.\n",
    "\n",
    "### Placeholder Table\n",
    "- **Inventory** (`inventory_dim`): A placeholder table to store inventory data, which is currently unavailable. This table will support future data loading.\n",
    "\n",
    "---"
   ]
  },
  {
   "cell_type": "markdown",
   "metadata": {},
   "source": [
    "\n",
    "## 1. Configure `profiles.yml`\n",
    "\n",
    "The `profiles.yml` file for dbt should be configured as follows. It connects to Snowflake, with the target database `GROUP6PROJECT`, and transforms data into the `SAMS_SUBS` schema.\n",
    "\n",
    "### `profiles.yml`"
   ]
  },
  {
   "cell_type": "markdown",
   "metadata": {},
   "source": [
    "```yaml\n",
    "group6_project:\n",
    "  target: dev\n",
    "  outputs:\n",
    "    dev:\n",
    "      type: snowflake\n",
    "      account: sfedu02-etb90388\n",
    "      user: AnimalName ## Replace User\n",
    "      password: [YourPasswordHere]  # Replace password!\n",
    "      role: TRAINING_ROLE\n",
    "      database: GROUP6PROJECT\n",
    "      warehouse: GROUP6_WH\n",
    "      schema: SAMS_SUBS\n",
    "      threads: 4\n",
    "      client_session_keep_alive: False\n"
   ]
  },
  {
   "cell_type": "markdown",
   "metadata": {},
   "source": [
    "## 2. Define Sources in dbt\n",
    "\n",
    "The `_src_sams_subs.yml` file defines the source tables for dbt to access from the `RAW_SAMSSUBS` schema. This file should be saved inside the `models/sams_subs` folder.\n",
    "\n",
    "### `_src_sams_subs.yml`"
   ]
  },
  {
   "cell_type": "markdown",
   "metadata": {},
   "source": [
    "```yaml\n",
    "version: 2\n",
    "\n",
    "sources:\n",
    "  - name: raw_data\n",
    "    database: GROUP6PROJECT\n",
    "    schema: RAW_SAMSSUBS\n",
    "    tables:\n",
    "      - name: Customer\n",
    "      - name: Employee\n",
    "      - name: Order\n",
    "      - name: OrderLineItem\n",
    "      - name: Product\n",
    "      - name: Sandwich\n",
    "      - name: Store"
   ]
  },
  {
   "cell_type": "markdown",
   "metadata": {},
   "source": [
    "---"
   ]
  },
  {
   "cell_type": "markdown",
   "metadata": {},
   "source": [
    "## 3. Transform Raw Data into Dimension and Fact Tables\n",
    "\n",
    "These SQL files create the necessary dimension and fact tables in the `SAMS_SUBS` schema by transforming the raw data from the `RAW_SAMSSUBS` schema.\n",
    "\n",
    "### `customer_dim.sql`\n",
    "This file creates the `customer_dim` table in the `SAMS_SUBS` schema."
   ]
  },
  {
   "cell_type": "code",
   "execution_count": null,
   "metadata": {
    "vscode": {
     "languageId": "sql"
    }
   },
   "outputs": [],
   "source": [
    "{{ config(\n",
    "    materialized='table',\n",
    "    schema='SAMS_SUBS',\n",
    "    name='customer_dim'\n",
    ") }}\n",
    "\n",
    "with raw_data as (\n",
    "    select\n",
    "        CustomerID as customer_id,\n",
    "        FirstName as first_name,\n",
    "        LastName as last_name,\n",
    "        DOB as dob,\n",
    "        PhoneNumber as phone_number\n",
    "    from {{ source('raw_data', 'Customer') }}\n",
    ")\n",
    "\n",
    "select \n",
    "    row_number() over () as cust_key,\n",
    "    customer_id,\n",
    "    first_name,\n",
    "    last_name,\n",
    "    dob,\n",
    "    phone_number\n",
    "from raw_data;"
   ]
  },
  {
   "cell_type": "markdown",
   "metadata": {},
   "source": [
    "---"
   ]
  },
  {
   "cell_type": "markdown",
   "metadata": {},
   "source": [
    "### `date_dim.sql`\n",
    "The `date_dim.sql` file creates the `date_dim` table in the `SAMS_SUBS` schema by extracting date-related details from the `Order` table.\n"
   ]
  },
  {
   "cell_type": "code",
   "execution_count": null,
   "metadata": {
    "vscode": {
     "languageId": "sql"
    }
   },
   "outputs": [],
   "source": [
    "{{ config(\n",
    "    materialized='table',\n",
    "    schema='SAMS_SUBS',\n",
    "    name='date_dim'\n",
    ") }}\n",
    "\n",
    "with raw_data as (\n",
    "    select\n",
    "        distinct OrderDate as date_id,\n",
    "        DAYOFWEEK(OrderDate) as day_of_week,\n",
    "        EXTRACT(MONTH from OrderDate) as month,\n",
    "        EXTRACT(QUARTER from OrderDate) as quarter,\n",
    "        EXTRACT(YEAR from OrderDate) as year\n",
    "    from {{ source('raw_data', 'Order') }}\n",
    ")\n",
    "\n",
    "select \n",
    "    row_number() over () as date_key,\n",
    "    date_id,\n",
    "    day_of_week,\n",
    "    month,\n",
    "    quarter,\n",
    "    year\n",
    "from raw_data;"
   ]
  },
  {
   "cell_type": "markdown",
   "metadata": {},
   "source": [
    "---"
   ]
  },
  {
   "cell_type": "markdown",
   "metadata": {},
   "source": [
    "### `employee_dim.sql`\n",
    "The `employee_dim.sql` file creates the `employee_dim` table in the `SAMS_SUBS` schema to store information about employees."
   ]
  },
  {
   "cell_type": "code",
   "execution_count": null,
   "metadata": {
    "vscode": {
     "languageId": "sql"
    }
   },
   "outputs": [],
   "source": [
    "{{ config(\n",
    "    materialized='table',\n",
    "    schema='SAMS_SUBS',\n",
    "    name='employee_dim'\n",
    ") }}\n",
    "\n",
    "with raw_data as (\n",
    "    select\n",
    "        EmployeeID as employee_id,\n",
    "        FirstName as first_name,\n",
    "        LastName as last_name,\n",
    "        DOB as dob\n",
    "    from {{ source('raw_data', 'Employee') }}\n",
    ")\n",
    "\n",
    "select \n",
    "    row_number() over () as employee_key,\n",
    "    employee_id,\n",
    "    first_name,\n",
    "    last_name,\n",
    "    dob\n",
    "from raw_data;"
   ]
  },
  {
   "cell_type": "markdown",
   "metadata": {},
   "source": [
    "---"
   ]
  },
  {
   "cell_type": "markdown",
   "metadata": {},
   "source": [
    "### `product_dim.sql`\n",
    "The `product_dim.sql` file creates the `product_dim` table in the `SAMS_SUBS` schema to store details about products."
   ]
  },
  {
   "cell_type": "code",
   "execution_count": null,
   "metadata": {
    "vscode": {
     "languageId": "sql"
    }
   },
   "outputs": [],
   "source": [
    "{{ config(\n",
    "    materialized='table',\n",
    "    schema='SAMS_SUBS',\n",
    "    name='product_dim'\n",
    ") }}\n",
    "\n",
    "with raw_data as (\n",
    "    select\n",
    "        ProductID as product_id,\n",
    "        [Type] as product_type,\n",
    "        Name as product_name,\n",
    "        Cost as cost,\n",
    "        Calories as calories\n",
    "    from {{ source('raw_data', 'Product') }}\n",
    ")\n",
    "\n",
    "select \n",
    "    row_number() over () as product_key,\n",
    "    product_id,\n",
    "    product_type,\n",
    "    product_name,\n",
    "    NULL as length,\n",
    "    cost,\n",
    "    calories,\n",
    "    NULL as description\n",
    "from raw_data;\n"
   ]
  },
  {
   "cell_type": "markdown",
   "metadata": {},
   "source": [
    "---"
   ]
  },
  {
   "cell_type": "markdown",
   "metadata": {},
   "source": [
    "### `store_dim.sql`\n",
    "The `store_dim.sql` file creates the `store_dim` table in the `SAMS_SUBS` schema to store location details about each store."
   ]
  },
  {
   "cell_type": "code",
   "execution_count": null,
   "metadata": {
    "vscode": {
     "languageId": "sql"
    }
   },
   "outputs": [],
   "source": [
    "{{ config(\n",
    "    materialized='table',\n",
    "    schema='SAMS_SUBS',\n",
    "    name='store_dim'\n",
    ") }}\n",
    "\n",
    "with raw_data as (\n",
    "    select\n",
    "        StoreID as store_id,\n",
    "        Address as address,\n",
    "        City as city,\n",
    "        State as state,\n",
    "        Zipcode as zipcode\n",
    "    from {{ source('raw_data', 'Store') }}\n",
    ")\n",
    "\n",
    "select \n",
    "    row_number() over () as store_key,\n",
    "    store_id,\n",
    "    address,\n",
    "    city,\n",
    "    state,\n",
    "    zipcode\n",
    "from raw_data;"
   ]
  },
  {
   "cell_type": "markdown",
   "metadata": {},
   "source": [
    "---"
   ]
  },
  {
   "cell_type": "markdown",
   "metadata": {},
   "source": [
    "### `order_fact.sql`\n",
    "The `order_fact.sql` file creates the `order_fact` table in the `SAMS_SUBS` schema, transforming order data into a fact table.\n"
   ]
  },
  {
   "cell_type": "code",
   "execution_count": null,
   "metadata": {
    "vscode": {
     "languageId": "sql"
    }
   },
   "outputs": [],
   "source": [
    "{{ config(\n",
    "    materialized='table',\n",
    "    schema='SAMS_SUBS',\n",
    "    name='order_fact'\n",
    ") }}\n",
    "\n",
    "with raw_data as (\n",
    "    select\n",
    "        OrderNo as order_no,\n",
    "        EmployeeID as employee_id,\n",
    "        CustomerID as customer_id,\n",
    "        StoreID as store_id,\n",
    "        TotalPrice as total_price,\n",
    "        OrderDate as order_date,\n",
    "        OrderMethod as order_method\n",
    "    from {{ source('raw_data', 'Order') }}\n",
    ")\n",
    "\n",
    "select \n",
    "    row_number() over () as order_key,\n",
    "    order_no,\n",
    "    employee_id as employee_key,\n",
    "    customer_id as cust_key,\n",
    "    store_id as store_key,\n",
    "    total_price,\n",
    "    order_date,\n",
    "    order_method\n",
    "from raw_data;"
   ]
  },
  {
   "cell_type": "markdown",
   "metadata": {},
   "source": [
    "---"
   ]
  },
  {
   "cell_type": "markdown",
   "metadata": {},
   "source": [
    "### `order_line_fact.sql`\n",
    "The `order_line_fact.sql` file creates the `order_line_fact` table in the `SAMS_SUBS` schema to store individual line items within orders."
   ]
  },
  {
   "cell_type": "code",
   "execution_count": null,
   "metadata": {
    "vscode": {
     "languageId": "sql"
    }
   },
   "outputs": [],
   "source": [
    "{{ config(\n",
    "    materialized='table',\n",
    "    schema='SAMS_SUBS',\n",
    "    name='order_line_fact'\n",
    ") }}\n",
    "\n",
    "with raw_data as (\n",
    "    select\n",
    "        LineID as line_id,\n",
    "        OrderNo as order_no,\n",
    "        ProductID as product_id,\n",
    "        Quantity as quantity,\n",
    "        LinePrice as line_price\n",
    "    from {{ source('raw_data', 'OrderLineItem') }}\n",
    ")\n",
    "\n",
    "select \n",
    "    row_number() over () as order_line_key,\n",
    "    order_no,\n",
    "    product_id as product_key,\n",
    "    quantity,\n",
    "    line_price\n",
    "from raw_data;"
   ]
  },
  {
   "cell_type": "markdown",
   "metadata": {},
   "source": [
    "---"
   ]
  }
 ],
 "metadata": {
  "language_info": {
   "name": "python"
  }
 },
 "nbformat": 4,
 "nbformat_minor": 2
}
